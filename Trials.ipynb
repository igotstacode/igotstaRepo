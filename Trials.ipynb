{
 "cells": [
  {
   "cell_type": "code",
   "execution_count": 2,
   "id": "cb5dfd81",
   "metadata": {},
   "outputs": [
    {
     "name": "stdout",
     "output_type": "stream",
     "text": [
      "a() starts\n",
      "b() starts\n",
      "c() starts\n",
      "c() returns\n",
      "b() returns\n",
      "d() starts\n",
      "d() returns\n",
      "a() returns\n"
     ]
    }
   ],
   "source": [
    "# This output is what you get when you call \"a()\". This is an example of a call stack.\n",
    "\n",
    "def a():\n",
    "    print('a() starts')\n",
    "    b()\n",
    "    d()\n",
    "    print('a() returns')\n",
    "def b():\n",
    "    print('b() starts')\n",
    "    c()\n",
    "    print('b() returns')\n",
    "def c():\n",
    "    print('c() starts')\n",
    "    print('c() returns')\n",
    "def d():\n",
    "    print('d() starts')\n",
    "    print('d() returns')\n",
    "a()"
   ]
  },
  {
   "cell_type": "markdown",
   "id": "8ccb9350",
   "metadata": {},
   "source": [
    "# LOCAL SCOPE EXAMPLE\n",
    "\n"
   ]
  },
  {
   "cell_type": "code",
   "execution_count": 4,
   "id": "d1444352",
   "metadata": {},
   "outputs": [
    {
     "ename": "NameError",
     "evalue": "name 'eggs' is not defined",
     "output_type": "error",
     "traceback": [
      "\u001b[1;31m---------------------------------------------------------------------------\u001b[0m",
      "\u001b[1;31mNameError\u001b[0m                                 Traceback (most recent call last)",
      "Cell \u001b[1;32mIn[4], line 7\u001b[0m\n\u001b[0;32m      5\u001b[0m     eggs \u001b[38;5;241m=\u001b[39m \u001b[38;5;241m31337\u001b[39m\n\u001b[0;32m      6\u001b[0m spam()\n\u001b[1;32m----> 7\u001b[0m \u001b[38;5;28mprint\u001b[39m(\u001b[43meggs\u001b[49m)\n",
      "\u001b[1;31mNameError\u001b[0m: name 'eggs' is not defined"
     ]
    }
   ],
   "source": [
    "#The error happens because the eggs variable exists only in the localscope created when spam() is called.\n",
    "#Once the program execution returns from spam, that local scope is destroyed, and there is no longer a variable named eggs\n",
    "\n",
    "def spam():\n",
    "    eggs = 31337\n",
    "spam()\n",
    "print(eggs)"
   ]
  },
  {
   "cell_type": "code",
   "execution_count": 5,
   "id": "ae8ed3d0",
   "metadata": {},
   "outputs": [
    {
     "name": "stdout",
     "output_type": "stream",
     "text": [
      "99\n"
     ]
    }
   ],
   "source": [
    "#Local Scopes Cannot Use Variables in Other Local Scopes\n",
    "#A new local scope is created whenever a function is called, including when a function is called from another function.\n",
    "\n",
    "def spam():\n",
    "    eggs = 99\n",
    "    bacon()\n",
    "    print(eggs)\n",
    "    \n",
    "def bacon():\n",
    "    ham = 101\n",
    "    eggs = 0\n",
    "    \n",
    "spam()"
   ]
  },
  {
   "cell_type": "markdown",
   "id": "846af155",
   "metadata": {},
   "source": [
    "# Global Variables Can Be Read from a Local Scope"
   ]
  },
  {
   "cell_type": "code",
   "execution_count": 7,
   "id": "703f3ca1",
   "metadata": {},
   "outputs": [
    {
     "name": "stdout",
     "output_type": "stream",
     "text": [
      "42\n"
     ]
    }
   ],
   "source": [
    "def spam():\n",
    "    print(eggs)\n",
    "eggs = 42  \n",
    "print(eggs)\n",
    "\n",
    "#Since there is no parameter named eggs or any code that assigns eggs a value in the spam() function, when eggs is used in spam(),\n",
    "#Python considers it a reference to the global variable eggs. This is why 42 is printed when the previous program is run.\n"
   ]
  },
  {
   "cell_type": "code",
   "execution_count": 6,
   "id": "bd78bad1",
   "metadata": {},
   "outputs": [
    {
     "name": "stdout",
     "output_type": "stream",
     "text": [
      "what is your name? John Glover\n",
      "+++++++\n",
      "John Glover\n"
     ]
    }
   ],
   "source": [
    "# Now, I am going to take an input and then write it into a file. Later, I will print the name.\n",
    "\n",
    "name = str(input(\"what is your name? \"))\n",
    "\n",
    "# write to a file\n",
    "with open(\"myfile.txt\", \"w\") as f:\n",
    "    f.write(name)\n",
    "    \n",
    "print(\"+++++++\")\n",
    "    \n",
    "# read from a file\n",
    "with open(\"myfile.txt\", \"r\") as f:\n",
    "    content = f.read()\n",
    "    print(content)\n",
    "    "
   ]
  },
  {
   "cell_type": "code",
   "execution_count": 12,
   "id": "06a703bd",
   "metadata": {},
   "outputs": [
    {
     "name": "stdout",
     "output_type": "stream",
     "text": [
      "what is your name? kiki   \n",
      "what class are you in? class 6   \n",
      "what is the name of your school? kiki high   \n",
      "where are you from? chorkor\n",
      "+++++++\n",
      "kiki   class 6   kiki high   chorkor\n"
     ]
    }
   ],
   "source": [
    "name = str(input(\"what is your name? \"))\n",
    "s_class = str(input(\"what class are you in? \"))\n",
    "school = str(input(\"what is the name of your school? \"))\n",
    "village = str(input(\"where are you from? \"))\n",
    "\n",
    "# write to a file\n",
    "with open(\"myotherfile.txt\", \"w\") as g:\n",
    "    g.write(name)\n",
    "    g.write(s_class)\n",
    "    g.write(school)\n",
    "    g.write(village)\n",
    "    \n",
    "print(\"+++++++\")\n",
    "    \n",
    "# read from a file\n",
    "with open(\"myotherfile.txt\", \"r\") as g:\n",
    "    content = g.read()\n",
    "    print(content)   "
   ]
  },
  {
   "cell_type": "code",
   "execution_count": 13,
   "id": "9add0642",
   "metadata": {},
   "outputs": [
    {
     "name": "stdout",
     "output_type": "stream",
     "text": [
      "what is your name? kiki\n",
      "what class are you in? class 9\n",
      "what is the name of your school? rashid high\n",
      "where are you from? last top\n"
     ]
    }
   ],
   "source": [
    "name = str(input(\"what is your name? \"))\n",
    "s_class = str(input(\"what class are you in? \"))\n",
    "school = str(input(\"what is the name of your school? \"))\n",
    "village = str(input(\"where are you from? \"))\n",
    "\n",
    "# write to a file\n",
    "with open(\"myotherfileee.txt\", \"w\") as g:\n",
    "    g.write(name)\n",
    "    g.write(s_class)\n",
    "    g.write(school)\n",
    "    g.write(village)"
   ]
  },
  {
   "cell_type": "code",
   "execution_count": 14,
   "id": "9d6927b1",
   "metadata": {},
   "outputs": [
    {
     "name": "stdout",
     "output_type": "stream",
     "text": [
      "<class '_io.TextIOWrapper'>\n"
     ]
    }
   ],
   "source": [
    "print(type(g))"
   ]
  },
  {
   "cell_type": "code",
   "execution_count": 15,
   "id": "4440ad14",
   "metadata": {
    "scrolled": true
   },
   "outputs": [
    {
     "name": "stdout",
     "output_type": "stream",
     "text": [
      "Hello, world!\n",
      "I am trying to read from a file.\n",
      "If this works, it would really be cool.\n",
      "It would show I am improving.\n",
      "I know this is basic but it's still amazing.\n",
      "I don't know where I will be in a few days.\n",
      "But I will surely get things done!\n",
      "And when I do, \"Oh man!\".\n",
      "\n"
     ]
    }
   ],
   "source": [
    "with open('myfilee.txt', 'r') as q:\n",
    "    print(q.read())"
   ]
  },
  {
   "cell_type": "code",
   "execution_count": 1,
   "id": "7d82eb0a",
   "metadata": {},
   "outputs": [
    {
     "ename": "UnboundLocalError",
     "evalue": "local variable 'eggs' referenced before assignment",
     "output_type": "error",
     "traceback": [
      "\u001b[1;31m---------------------------------------------------------------------------\u001b[0m",
      "\u001b[1;31mUnboundLocalError\u001b[0m                         Traceback (most recent call last)",
      "Cell \u001b[1;32mIn[1], line 6\u001b[0m\n\u001b[0;32m      3\u001b[0m     eggs \u001b[38;5;241m=\u001b[39m \u001b[38;5;124m'\u001b[39m\u001b[38;5;124mspam local\u001b[39m\u001b[38;5;124m'\u001b[39m\n\u001b[0;32m      5\u001b[0m eggs \u001b[38;5;241m=\u001b[39m \u001b[38;5;124m'\u001b[39m\u001b[38;5;124mglobal\u001b[39m\u001b[38;5;124m'\u001b[39m\n\u001b[1;32m----> 6\u001b[0m \u001b[43mspam\u001b[49m\u001b[43m(\u001b[49m\u001b[43m)\u001b[49m\n",
      "Cell \u001b[1;32mIn[1], line 2\u001b[0m, in \u001b[0;36mspam\u001b[1;34m()\u001b[0m\n\u001b[0;32m      1\u001b[0m \u001b[38;5;28;01mdef\u001b[39;00m \u001b[38;5;21mspam\u001b[39m():\n\u001b[1;32m----> 2\u001b[0m     \u001b[38;5;28mprint\u001b[39m(\u001b[43meggs\u001b[49m) \u001b[38;5;66;03m# ERROR!\u001b[39;00m\n\u001b[0;32m      3\u001b[0m     eggs \u001b[38;5;241m=\u001b[39m \u001b[38;5;124m'\u001b[39m\u001b[38;5;124mspam local\u001b[39m\u001b[38;5;124m'\u001b[39m\n",
      "\u001b[1;31mUnboundLocalError\u001b[0m: local variable 'eggs' referenced before assignment"
     ]
    }
   ],
   "source": [
    "def spam():\n",
    "    print(eggs) # ERROR!\n",
    "    eggs = 'spam local'\n",
    "\n",
    "eggs = 'global'\n",
    "spam()"
   ]
  },
  {
   "cell_type": "code",
   "execution_count": 2,
   "id": "863ac0cd",
   "metadata": {},
   "outputs": [
    {
     "name": "stdout",
     "output_type": "stream",
     "text": [
      "spam local\n"
     ]
    }
   ],
   "source": [
    "def spam():\n",
    "    eggs = 'spam local'\n",
    "    print(eggs) # ERROR!\n",
    "\n",
    "\n",
    "eggs = 'global'\n",
    "spam()"
   ]
  },
  {
   "cell_type": "code",
   "execution_count": 4,
   "id": "3ecb4443",
   "metadata": {},
   "outputs": [
    {
     "name": "stdout",
     "output_type": "stream",
     "text": [
      "oh hi\n"
     ]
    }
   ],
   "source": [
    "#this strip() method removes all white spaces before and after your strings\n",
    "him = \"    oh hi   \"\n",
    "print(him.strip())\n"
   ]
  },
  {
   "cell_type": "code",
   "execution_count": 5,
   "id": "b1f18137",
   "metadata": {},
   "outputs": [
    {
     "name": "stdout",
     "output_type": "stream",
     "text": [
      "coooook\n"
     ]
    }
   ],
   "source": [
    "#this replace() method allows you to replace a string with another.\n",
    "jokes = \"cjjjjjk\"\n",
    "print(jokes.replace(\"j\",\"o\"))"
   ]
  },
  {
   "cell_type": "code",
   "execution_count": 6,
   "id": "9ad468e4",
   "metadata": {},
   "outputs": [
    {
     "name": "stdout",
     "output_type": "stream",
     "text": [
      "My name is John, and I am 25\n"
     ]
    }
   ],
   "source": [
    "#the format() method allows you to add numbers to strings.\n",
    "\n",
    "years = 25\n",
    "txt = \"My name is John, and I am {}\"\n",
    "print(txt.format(years))"
   ]
  },
  {
   "cell_type": "code",
   "execution_count": 7,
   "id": "6e01d88d",
   "metadata": {},
   "outputs": [
    {
     "name": "stdout",
     "output_type": "stream",
     "text": [
      "I want 3 pieces of item 567 for 49.95 dollars.\n"
     ]
    }
   ],
   "source": [
    "#The format() method takes unlimited number of arguments, and are placed into the respective placeholders.\n",
    "\n",
    "quantity = 3\n",
    "itemno = 567\n",
    "price = 49.95\n",
    "myorder = \"I want {} pieces of item {} for {} dollars.\"\n",
    "print(myorder.format(quantity, itemno, price))"
   ]
  },
  {
   "cell_type": "code",
   "execution_count": 8,
   "id": "42871b64",
   "metadata": {},
   "outputs": [
    {
     "name": "stdout",
     "output_type": "stream",
     "text": [
      "I want to pay 49.95 dollars for 3 pieces of item 567.\n"
     ]
    }
   ],
   "source": [
    "#You can use index numbers {0} to be sure the arguments are placed in the correct placeholders\n",
    "\n",
    "quantity = 3\n",
    "itemno = 567\n",
    "price = 49.95\n",
    "myorder = \"I want to pay {2} dollars for {0} pieces of item {1}.\"\n",
    "print(myorder.format(quantity, itemno, price)) "
   ]
  },
  {
   "cell_type": "code",
   "execution_count": 1,
   "id": "f8d01c4e",
   "metadata": {},
   "outputs": [
    {
     "name": "stdout",
     "output_type": "stream",
     "text": [
      "We are the so-called \"Vikings\" from the north.\n"
     ]
    }
   ],
   "source": [
    "#The escape character allows you to use double quotes when you normally would not be allowed\n",
    "\n",
    "txt = \"We are the so-called \\\"Vikings\\\" from the north.\"\n",
    "print(txt) \n"
   ]
  },
  {
   "cell_type": "code",
   "execution_count": null,
   "id": "068b5c14",
   "metadata": {},
   "outputs": [],
   "source": []
  },
  {
   "cell_type": "code",
   "execution_count": null,
   "id": "c5fa235d",
   "metadata": {},
   "outputs": [],
   "source": []
  }
 ],
 "metadata": {
  "kernelspec": {
   "display_name": "Python 3 (ipykernel)",
   "language": "python",
   "name": "python3"
  },
  "language_info": {
   "codemirror_mode": {
    "name": "ipython",
    "version": 3
   },
   "file_extension": ".py",
   "mimetype": "text/x-python",
   "name": "python",
   "nbconvert_exporter": "python",
   "pygments_lexer": "ipython3",
   "version": "3.10.9"
  }
 },
 "nbformat": 4,
 "nbformat_minor": 5
}
